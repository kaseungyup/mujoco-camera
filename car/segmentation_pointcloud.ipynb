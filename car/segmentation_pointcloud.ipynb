{
 "cells": [
  {
   "cell_type": "code",
   "execution_count": 1,
   "metadata": {},
   "outputs": [
    {
     "name": "stdout",
     "output_type": "stream",
     "text": [
      "MuJoCo version: (3, 1, 6)\n"
     ]
    }
   ],
   "source": [
    "import sys\n",
    "import numpy as np\n",
    "import matplotlib.pyplot as plt\n",
    "import mediapy\n",
    "import cv2\n",
    "sys.path.append('../package/mujoco_helper/') # for 'mujoco_parser'\n",
    "sys.path.append('../package/kinematics_helper/') # for 'transforms'\n",
    "sys.path.append('../package/utility/') # for 'utils'\n",
    "from mujoco_parser import *\n",
    "from transforms import *\n",
    "from utils import *\n",
    "from ik import *\n",
    "np.set_printoptions(precision=2,suppress=True,linewidth=100)\n",
    "plt.rc('xtick',labelsize=6); plt.rc('ytick',labelsize=6)\n",
    "%config InlineBackend.figure_format = 'retina'\n",
    "%matplotlib inline\n",
    "print (\"MuJoCo version:\",MUJOCO_VERSION)"
   ]
  },
  {
   "cell_type": "code",
   "execution_count": 2,
   "metadata": {},
   "outputs": [],
   "source": [
    "xml_path = '../asset/scene_car.xml'\n",
    "env = MuJoCoParserClass(name='Car Scene',rel_xml_path=xml_path,verbose=False)\n",
    "\n",
    "colors = plt.get_cmap('tab20').colors + plt.get_cmap('tab20b').colors[:env.model.ngeom]\n",
    "for i in range(env.model.ngeom):\n",
    "    geom_name = mujoco.mj_id2name(env.model, mujoco.mjtObj.mjOBJ_GEOM, i)\n",
    "    if geom_name != 'floor': env.model.geom_rgba[i][:3] = colors[i]\n",
    "    # if geom_name != 'floor': env.model.geom_rgba[i][:3] = [0.3,0.3,0.3]"
   ]
  },
  {
   "cell_type": "code",
   "execution_count": 3,
   "metadata": {},
   "outputs": [
    {
     "name": "stderr",
     "output_type": "stream",
     "text": [
      "2024-12-02 18:14:43.894 python[15921:1658116] +[IMKClient subclass]: chose IMKClient_Modern\n",
      "2024-12-02 18:14:43.894 python[15921:1658116] +[IMKInputSession subclass]: chose IMKInputSession_Modern\n"
     ]
    }
   ],
   "source": [
    "env.reset()\n",
    "env.init_viewer(\n",
    "    azimuth           = 180,\n",
    "    distance          = 10.5,\n",
    "    elevation         = -8.8,\n",
    "    lookat            = [-0.06,-0.71,1.26],\n",
    "    transparent       = False,\n",
    "    black_sky         = True,\n",
    "    use_rgb_overlay   = True,\n",
    "    loc_rgb_overlay   = 'top right',\n",
    "    use_rgb_overlay_2 = True,\n",
    "    loc_rgb_overlay_2 = 'top left',\n",
    ")\n",
    "\n",
    "p_start = np.array([2.5,-3.0,3.0])\n",
    "p_end = np.array([2.5,1.8,3.0])\n",
    "R_start = rpy2r_order(np.radians([0,45,90]))\n",
    "tick = 0\n",
    "max_tick = 100\n",
    "point_cloud = np.zeros((0,3))\n",
    "\n",
    "while env.is_viewer_alive() and tick < max_tick:\n",
    "    env.step()\n",
    "    env.data.cam('external').xpos = p_start + (p_end - p_start) * tick / max_tick\n",
    "    env.data.cam('external').xmat = np.reshape(R_start,9)\n",
    "\n",
    "    rgb_cam, depth_cam, pcd_cam, T_cam = env.get_fixed_cam_rgbd_pcd(\n",
    "        cam_name='external',\n",
    "        downscale_pcd = 0.5\n",
    "    )\n",
    "    _, seg_cam = env.get_fixed_cam_seg(cam_name='external')\n",
    "\n",
    "    env.plot_T(T=T_cam,axis_len=0.1,axis_width=0.005,label=\"External\")\n",
    "\n",
    "    env.viewer.add_rgb_overlay(seg_cam)\n",
    "    env.viewer.add_rgb_overlay_2(depth_to_gray_img(depth_cam))\n",
    "\n",
    "    env.render()\n",
    "    tick += 1\n",
    "\n",
    "    pcd_cam = pcd_cam[pcd_cam[:,2] > 0.01]\n",
    "    point_cloud = np.vstack([point_cloud,pcd_cam])\n",
    "\n",
    "env.close_viewer()"
   ]
  },
  {
   "cell_type": "code",
   "execution_count": 4,
   "metadata": {},
   "outputs": [
    {
     "name": "stderr",
     "output_type": "stream",
     "text": [
      "objc[15921]: Class GLFWWindowDelegate is implemented in both /opt/homebrew/Cellar/glfw/3.3.9/lib/libglfw.3.3.dylib (0x171829858) and /Users/sy/miniforge3/envs/vision/lib/python3.9/site-packages/open3d/cpu/pybind.cpython-39-darwin.so (0x332e86da8). One of the two will be used. Which one is undefined.\n",
      "objc[15921]: Class GLFWApplicationDelegate is implemented in both /opt/homebrew/Cellar/glfw/3.3.9/lib/libglfw.3.3.dylib (0x171829830) and /Users/sy/miniforge3/envs/vision/lib/python3.9/site-packages/open3d/cpu/pybind.cpython-39-darwin.so (0x332e86e20). One of the two will be used. Which one is undefined.\n",
      "objc[15921]: Class GLFWContentView is implemented in both /opt/homebrew/Cellar/glfw/3.3.9/lib/libglfw.3.3.dylib (0x1718298a8) and /Users/sy/miniforge3/envs/vision/lib/python3.9/site-packages/open3d/cpu/pybind.cpython-39-darwin.so (0x332e86e48). One of the two will be used. Which one is undefined.\n",
      "objc[15921]: Class GLFWWindow is implemented in both /opt/homebrew/Cellar/glfw/3.3.9/lib/libglfw.3.3.dylib (0x171829920) and /Users/sy/miniforge3/envs/vision/lib/python3.9/site-packages/open3d/cpu/pybind.cpython-39-darwin.so (0x332e86ec0). One of the two will be used. Which one is undefined.\n"
     ]
    },
    {
     "name": "stdout",
     "output_type": "stream",
     "text": [
      "\u001b[1;33m[Open3D WARNING] GLFW Error: Cocoa: Failed to find service port for display\u001b[0;m\n",
      "\u001b[1;33m[Open3D WARNING] GLFW Error: The GLFW library is not initialized\u001b[0;m\n"
     ]
    }
   ],
   "source": [
    "import open3d as o3d\n",
    "\n",
    "def custom_draw_geometry(pcd):\n",
    "    vis = o3d.visualization.VisualizerWithKeyCallback()\n",
    "    vis.create_window()\n",
    "    vis.add_geometry(pcd)\n",
    "    \n",
    "    # Define callback function for ESC key\n",
    "    def close_callback(vis):\n",
    "        vis.destroy_window()\n",
    "        return False\n",
    "    \n",
    "    # Register the callback function with key \"Escape\" (key value 256)\n",
    "    vis.register_key_callback(256, close_callback)\n",
    "    \n",
    "    # Run the visualizer\n",
    "    vis.run()\n",
    "    vis.destroy_window()\n",
    "\n",
    "# Create your point cloud\n",
    "pcd = o3d.geometry.PointCloud()\n",
    "pcd.points = o3d.utility.Vector3dVector(point_cloud)\n",
    "\n",
    "# Run the custom visualization\n",
    "custom_draw_geometry(pcd)"
   ]
  },
  {
   "cell_type": "code",
   "execution_count": null,
   "metadata": {},
   "outputs": [],
   "source": []
  }
 ],
 "metadata": {
  "kernelspec": {
   "display_name": "vision",
   "language": "python",
   "name": "python3"
  },
  "language_info": {
   "codemirror_mode": {
    "name": "ipython",
    "version": 3
   },
   "file_extension": ".py",
   "mimetype": "text/x-python",
   "name": "python",
   "nbconvert_exporter": "python",
   "pygments_lexer": "ipython3",
   "version": "3.9.20"
  }
 },
 "nbformat": 4,
 "nbformat_minor": 2
}

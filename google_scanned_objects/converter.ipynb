{
 "cells": [
  {
   "cell_type": "markdown",
   "id": "79e9eddd-d227-4457-be1f-3cb9b3ae915b",
   "metadata": {},
   "source": [
    "### Google Scanned Objects Converter\n",
    "- This Google's `Scanned Objects Dataset` contains 1030 household objects. \n",
    "    -  https://research.google/blog/scanned-objects-by-google-research-a-dataset-of-3d-scanned-common-household-items/\n",
    "- However, due to having the same naming convention for each object, it is difficult to make an xml file with multiple objects.\n",
    "- This notebook (converter.ipynb) converts xml and obj files to have different names so that they can easily be added to a single mjcf file.\n",
    "- We will be assuming that we have downloaded xml and obj files from the following link:\n",
    "    - https://github.com/kevinzakka/mujoco_scanned_objects\n",
    "- Put this notebook inside the root folder (i.e., `/mujoco_scanned_objects/`)"
   ]
  },
  {
   "cell_type": "code",
   "execution_count": 1,
   "id": "2fe2134d-e61c-48df-8be1-647da5a2fff5",
   "metadata": {},
   "outputs": [
    {
     "name": "stdout",
     "output_type": "stream",
     "text": [
      "Ready.\n"
     ]
    }
   ],
   "source": [
    "import os\n",
    "import shutil\n",
    "import glob\n",
    "import xml.etree.ElementTree as ET\n",
    "print (\"Ready.\")"
   ]
  },
  {
   "cell_type": "code",
   "execution_count": 2,
   "id": "1288884a-aa6d-4a4f-ae7f-d61bdf9f5fe2",
   "metadata": {},
   "outputs": [
    {
     "name": "stdout",
     "output_type": "stream",
     "text": [
      "Ready.\n"
     ]
    }
   ],
   "source": [
    "# base asset paths\n",
    "original_model_path  = './models'\n",
    "converted_model_path = './converted_models'\n",
    "converted_mesh_path  = './converted_meshes'\n",
    "print (\"Ready.\")"
   ]
  },
  {
   "cell_type": "markdown",
   "id": "f31d6834-63cf-48eb-b765-fe509e820a2d",
   "metadata": {},
   "source": [
    "#### Remove existing working folders"
   ]
  },
  {
   "cell_type": "code",
   "execution_count": 3,
   "id": "6d3392f5-ebd6-4200-90b8-aad73d2e779e",
   "metadata": {},
   "outputs": [
    {
     "name": "stdout",
     "output_type": "stream",
     "text": [
      "[./converted_models] removed.\n",
      "[./converted_meshes] removed.\n",
      "Done.\n"
     ]
    }
   ],
   "source": [
    "if os.path.exists(converted_model_path):\n",
    "    shutil.rmtree(converted_model_path)\n",
    "    print(\"[%s] removed.\"%(converted_model_path))\n",
    "if os.path.exists(converted_mesh_path):\n",
    "    shutil.rmtree(converted_mesh_path)\n",
    "    print(\"[%s] removed.\"%(converted_mesh_path))\n",
    "print (\"Done.\")"
   ]
  },
  {
   "cell_type": "markdown",
   "id": "af435b85-c8ab-44fc-9670-366683d21a6d",
   "metadata": {},
   "source": [
    "#### Create working folders"
   ]
  },
  {
   "cell_type": "code",
   "execution_count": 4,
   "id": "7e213152-57ed-4c3f-945b-4d2d8b5a9e2d",
   "metadata": {},
   "outputs": [
    {
     "name": "stdout",
     "output_type": "stream",
     "text": [
      "[./converted_models] created.\n",
      "[./converted_meshes] created.\n",
      "Ready.\n"
     ]
    }
   ],
   "source": [
    "# create processed folder if it does not exist\n",
    "os.makedirs(converted_model_path, exist_ok=True)\n",
    "print (\"[%s] created.\"%(converted_model_path))\n",
    "# create mesh folder in processed path\n",
    "os.makedirs(converted_mesh_path, exist_ok=True)\n",
    "print (\"[%s] created.\"%(converted_mesh_path))\n",
    "print (\"Ready.\")"
   ]
  },
  {
   "cell_type": "markdown",
   "id": "c36f0857-0826-4856-a7a5-45046287948c",
   "metadata": {},
   "source": [
    "#### Main Loop"
   ]
  },
  {
   "cell_type": "code",
   "execution_count": 5,
   "id": "50c2f92a-88c2-48be-9daa-9946a2c1c035",
   "metadata": {
    "scrolled": true
   },
   "outputs": [
    {
     "ename": "FileNotFoundError",
     "evalue": "[Errno 2] No such file or directory: './models'",
     "output_type": "error",
     "traceback": [
      "\u001b[0;31m---------------------------------------------------------------------------\u001b[0m",
      "\u001b[0;31mFileNotFoundError\u001b[0m                         Traceback (most recent call last)",
      "Cell \u001b[0;32mIn[5], line 3\u001b[0m\n\u001b[1;32m      1\u001b[0m \u001b[38;5;66;03m# iterate through each folder in the original_model_path\u001b[39;00m\n\u001b[1;32m      2\u001b[0m verbose_detail \u001b[38;5;241m=\u001b[39m \u001b[38;5;28;01mFalse\u001b[39;00m\n\u001b[0;32m----> 3\u001b[0m \u001b[38;5;28;01mfor\u001b[39;00m folder_name \u001b[38;5;129;01min\u001b[39;00m \u001b[43mos\u001b[49m\u001b[38;5;241;43m.\u001b[39;49m\u001b[43mlistdir\u001b[49m\u001b[43m(\u001b[49m\u001b[43moriginal_model_path\u001b[49m\u001b[43m)\u001b[49m:\n\u001b[1;32m      4\u001b[0m     folder_path \u001b[38;5;241m=\u001b[39m os\u001b[38;5;241m.\u001b[39mpath\u001b[38;5;241m.\u001b[39mjoin(original_model_path, folder_name)\n\u001b[1;32m      6\u001b[0m     \u001b[38;5;28;01mif\u001b[39;00m os\u001b[38;5;241m.\u001b[39mpath\u001b[38;5;241m.\u001b[39misdir(folder_path): \n",
      "\u001b[0;31mFileNotFoundError\u001b[0m: [Errno 2] No such file or directory: './models'"
     ]
    }
   ],
   "source": [
    "# iterate through each folder in the original_model_path\n",
    "verbose_detail = False\n",
    "for folder_name in os.listdir(original_model_path):\n",
    "    folder_path = os.path.join(original_model_path, folder_name)\n",
    "    \n",
    "    if os.path.isdir(folder_path): \n",
    "        print (\"\\nfolder_name: [%s]\"%(folder_name))\n",
    "        \n",
    "        # create corresponding folder in converted_model_path\n",
    "        processed_folder_path = os.path.join(converted_model_path, folder_name)\n",
    "        os.makedirs(processed_folder_path, exist_ok=True)\n",
    "        \n",
    "        # Prefix for files if folder_name starts with a digit\n",
    "        prefix = 'model_' if folder_name[0].isdigit() else ''\n",
    "        \"\"\"\n",
    "            Step 1: \n",
    "            # Copy and rename 'model.xml' to 'converted_model_path/folder_name.xml'\n",
    "            Copy and rename 'model.xml' to 'converted_model_path/model.xml'\n",
    "        \"\"\"\n",
    "        xml_file = os.path.join(folder_path, 'model.xml')\n",
    "        # new_xml_file = os.path.join(processed_folder_path, f'{prefix}{folder_name}.xml')\n",
    "        new_xml_file = os.path.join(processed_folder_path, f'model.xml')\n",
    "        if os.path.exists(xml_file):\n",
    "            shutil.copy(xml_file, new_xml_file)\n",
    "            if verbose_detail: print(\" Copy [%s] to [%s]\"%(xml_file,new_xml_file))\n",
    "\n",
    "        \"\"\"\n",
    "            Step 2: \n",
    "            Copy and rename 'model_collision_XX.obj' to 'converted_mesh_path/folder_name_collision_XX.obj'\n",
    "        \"\"\"\n",
    "        obj_files = glob.glob(os.path.join(folder_path, 'model_collision_*.obj'))\n",
    "        for obj_idx,obj_file in enumerate(obj_files):\n",
    "            obj_file_name = os.path.basename(obj_file)\n",
    "            new_obj_file_name = obj_file_name.replace('model', f'{prefix}{folder_name}')\n",
    "            new_obj_file = os.path.join(converted_mesh_path, new_obj_file_name)\n",
    "            shutil.copy(obj_file, new_obj_file)\n",
    "            if verbose_detail: print(\"  [%d] Copy [%s] to [%s]\"%(obj_idx,obj_file,new_obj_file))\n",
    "\n",
    "        \"\"\"\n",
    "            Step 3: \n",
    "            Copy and rename 'texture.png' to 'converted_mesh_path/folder_name.png'\n",
    "        \"\"\"\n",
    "        texture_file = os.path.join(folder_path, 'texture.png')\n",
    "        new_texture_file = os.path.join(converted_mesh_path, f'{prefix}{folder_name}.png')\n",
    "        if os.path.exists(texture_file):\n",
    "            shutil.copy(texture_file, new_texture_file)\n",
    "            if verbose_detail: print(\" Copy [%s] to [%s]\"%(texture_file,new_texture_file))\n",
    "\n",
    "        \"\"\"\n",
    "            Step 4: \n",
    "            Copy and rename 'model.obj' to 'converted_model_path/folder_name.obj'\n",
    "        \"\"\"\n",
    "        model_obj_file = os.path.join(folder_path, 'model.obj')\n",
    "        new_model_obj_file = os.path.join(processed_folder_path, f'{prefix}{folder_name}.obj')\n",
    "        if os.path.exists(model_obj_file):\n",
    "            shutil.copy(model_obj_file, new_model_obj_file)\n",
    "            if verbose_detail: print(\" Copy [%s] to [%s]\"%(model_obj_file,new_model_obj_file))\n",
    "\n",
    "        \"\"\"\n",
    "           Step 5:\n",
    "           Copy 'converted_model_path/folder_name.obj' to 'converted_mesh_path/folder_name.obj'\n",
    "        \"\"\"\n",
    "        if os.path.exists(new_model_obj_file):\n",
    "            shutil.copy(new_model_obj_file, converted_mesh_path)\n",
    "            if verbose_detail: print(\" Copy [%s] to [%s]\"%(new_model_obj_file,converted_mesh_path))\n",
    "\n",
    "        \"\"\" \n",
    "            Step 6: \n",
    "            Modify the contents of 'converted_model_path/folder_name.xml'\n",
    "             - \"model\" -> \"folder_name\"\n",
    "             - \"texture\" -> \"folder_name\"\n",
    "             - \"material_\" -> \"folder_name_\"\n",
    "             - Add <freejoint/>\n",
    "             - Modify body name\n",
    "        \"\"\"\n",
    "        if os.path.exists(new_xml_file):\n",
    "            tree = ET.parse(new_xml_file)\n",
    "            root = tree.getroot()\n",
    "            \n",
    "            for elem in root.iter():\n",
    "                for key, value in elem.attrib.items():\n",
    "                    if 'model' in value:\n",
    "                        new_value = value.replace('model', f'{prefix}{folder_name}')\n",
    "                        elem.set(key, new_value)\n",
    "                    if 'texture' in value:\n",
    "                        new_value = value.replace('texture', f'{prefix}{folder_name}')\n",
    "                        elem.set(key, new_value)\n",
    "                    if 'material_' in value:\n",
    "                        new_value = value.replace('material_', f'material_{folder_name}_')\n",
    "                        elem.set(key, new_value)\n",
    "                \n",
    "                if elem.text:\n",
    "                    if 'model' in elem.text:\n",
    "                        new_text = elem.text.replace('model', f'{prefix}{folder_name}')\n",
    "                        elem.text = new_text\n",
    "                    if 'texture' in elem.text:\n",
    "                        new_text = elem.text.replace('texture', f'{prefix}{folder_name}')\n",
    "                        elem.text = new_text\n",
    "                    if 'material_' in elem.text:\n",
    "                        new_text = elem.text.replace('material_', f'material_{folder_name}_')\n",
    "                        elem.text = new_text\n",
    "            \n",
    "            # Add <freejoint /> after the first <body> inside <worldbody>\n",
    "            for worldbody in root.iter('worldbody'):\n",
    "                first_body = worldbody.find('body')\n",
    "                if first_body is not None:\n",
    "                    freejoint = ET.Element('freejoint')\n",
    "                    first_body.insert(1, freejoint)\n",
    "\n",
    "            # Modify body_name to 'body_obj_'+folder_name\n",
    "            body = worldbody.find('body')\n",
    "            if body is not None:\n",
    "                new_body_name = 'body_obj_'+folder_name\n",
    "                body.set('name',new_body_name)\n",
    "            else:\n",
    "                print (\"body NOT FOUND\")\n",
    "\n",
    "            # Modify texxure and mesh file path\n",
    "            \"\"\"\n",
    "            <texture file=\"XXX.png\"/> => <texture file=\"prefix/XXX.png\"/>\n",
    "            <mesh file=\"XXX.png\"/> => <texture file=\"prefix/XXX.png\"/>\n",
    "            \"\"\"\n",
    "            prefix = '../../%s/'%(converted_mesh_path)\n",
    "            for mesh in root.findall(\".//texture\"):\n",
    "                file_path = mesh.get('file')\n",
    "                if file_path:\n",
    "                    mesh.set('file', prefix + file_path)\n",
    "            for mesh in root.findall(\".//mesh\"):\n",
    "                file_path = mesh.get('file')\n",
    "                if file_path:\n",
    "                    mesh.set('file', prefix + file_path)\n",
    "            \n",
    "\n",
    "            # Save\n",
    "            tree.write(new_xml_file)\n",
    "            print(\" Saved [%s]\"%(new_xml_file))\n",
    "\n",
    "print (\"Done.\")"
   ]
  },
  {
   "cell_type": "code",
   "execution_count": null,
   "id": "5d290c5e-f5d7-4154-8a2b-487ca9c5d8f0",
   "metadata": {},
   "outputs": [],
   "source": []
  }
 ],
 "metadata": {
  "kernelspec": {
   "display_name": "vision",
   "language": "python",
   "name": "python3"
  },
  "language_info": {
   "codemirror_mode": {
    "name": "ipython",
    "version": 3
   },
   "file_extension": ".py",
   "mimetype": "text/x-python",
   "name": "python",
   "nbconvert_exporter": "python",
   "pygments_lexer": "ipython3",
   "version": "3.9.20"
  }
 },
 "nbformat": 4,
 "nbformat_minor": 5
}

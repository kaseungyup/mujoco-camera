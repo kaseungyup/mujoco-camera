{
 "cells": [
  {
   "cell_type": "markdown",
   "metadata": {},
   "source": [
    "### Parse `Tabletop Objects`"
   ]
  },
  {
   "cell_type": "code",
   "execution_count": 1,
   "metadata": {},
   "outputs": [
    {
     "name": "stdout",
     "output_type": "stream",
     "text": [
      "MuJoCo version: (3, 1, 6)\n"
     ]
    }
   ],
   "source": [
    "import sys\n",
    "import numpy as np\n",
    "import matplotlib.pyplot as plt\n",
    "sys.path.append('../package/mujoco_helper/') # for 'mujoco_parser'\n",
    "sys.path.append('../package/kinematics_helper/') # for 'transforms'\n",
    "sys.path.append('../package/utility/') # for 'utils'\n",
    "from mujoco_parser import *\n",
    "from transforms import *\n",
    "from utils import *\n",
    "from ik import *\n",
    "np.set_printoptions(precision=2,suppress=True,linewidth=100)\n",
    "plt.rc('xtick',labelsize=6); plt.rc('ytick',labelsize=6)\n",
    "%config InlineBackend.figure_format = 'retina'\n",
    "%matplotlib inline\n",
    "print (\"MuJoCo version:\",MUJOCO_VERSION)"
   ]
  },
  {
   "cell_type": "code",
   "execution_count": 2,
   "metadata": {},
   "outputs": [],
   "source": [
    "xml_path = '../asset/scene_objects.xml'\n",
    "env = MuJoCoParserClass(name='Tabletop',rel_xml_path=xml_path,verbose=False)"
   ]
  },
  {
   "cell_type": "markdown",
   "metadata": {},
   "source": [
    "### Span Camera and Capture Point Cloud Information"
   ]
  },
  {
   "cell_type": "code",
   "execution_count": 3,
   "metadata": {},
   "outputs": [],
   "source": [
    "env.reset()\n",
    "env.init_viewer(\n",
    "    azimuth           = 163.88,\n",
    "    distance          = 4.5,\n",
    "    elevation         = -10,\n",
    "    lookat            = [0.01,0.11,0.5],\n",
    "    transparent       = False,\n",
    "    black_sky         = True,\n",
    "    use_rgb_overlay   = True,\n",
    "    loc_rgb_overlay   = 'top right',\n",
    "    use_rgb_overlay_2 = False,\n",
    "    loc_rgb_overlay_2 = 'bottom right',\n",
    ")\n",
    "\n",
    "p_center = np.array([0.6, 0, 1.2])  # center point of camera rotation\n",
    "radius = 0.5                        # distance from camera to rotation center point\n",
    "pcd_array = np.empty((0,3))         # array to save all point cloud points (maximum number of geoms that can be rendered in MuJoCo: 10000)\n",
    "num_views = 200                     # number of views to capture point cloud information (rendering can fail if too high)\n",
    "\n",
    "R_start = rpy2r(np.radians([0,-45,0]))\n",
    "obj_names = env.get_body_names(prefix='obj_')\n",
    "n_obj = len(obj_names)\n",
    "np.random.seed(seed=0) # FIX SEED\n",
    "obj_xyzs = sample_xyzs(\n",
    "    n_obj,\n",
    "    x_range   = [+0.6,+1.0],\n",
    "    y_range   = [-0.3,+0.3],\n",
    "    z_range   = [0.802,0.802],\n",
    "    min_dist  = 0.2,\n",
    "    xy_margin = 0.0\n",
    ")\n",
    "for obj_idx in range(n_obj):\n",
    "    env.set_p_base_body(body_name=obj_names[obj_idx],p=obj_xyzs[obj_idx,:])\n",
    "    env.set_R_base_body(body_name=obj_names[obj_idx],R=np.eye(3,3))\n",
    "env.forward(increase_tick=False)\n",
    "\n",
    "while env.is_viewer_alive() and env.tick < 2*np.pi*num_views:\n",
    "    env.step()\n",
    "\n",
    "    theta = env.tick / num_views\n",
    "    p_curr = p_center - radius* np.array((np.cos(theta),np.sin(theta),0))\n",
    "    R_spin = rpy2r([0,0,theta])\n",
    "    R_curr = np.dot(R_spin,R_start)\n",
    "    env.data.cam('external').xpos = p_curr\n",
    "    env.data.cam('external').xmat = np.reshape(R_curr,(9,))\n",
    "\n",
    "    if env.loop_every(tick_every=10):\n",
    "        rgb_ext,depth_ext,pcd_ext,T_cam_ext = env.get_fixed_cam_rgbd_pcd(\n",
    "            cam_name='external',downscale_pcd=0.1)\n",
    "        pcd_ext_above = pcd_ext[pcd_ext[:,2] > 0.8]\n",
    "        pcd_array = np.vstack((pcd_array,pcd_ext_above))\n",
    "        \n",
    "    if env.loop_every(tick_every=10):\n",
    "        env.plot_T(T=T_cam_ext,axis_len=0.1,axis_width=0.005,label='External')\n",
    "        env.viewer.add_rgb_overlay(rgb_img_raw=rgb_ext)\n",
    "        for p in pcd_ext_above: env.plot_sphere(p=p,r=0.002,rgba=[0.05,0.95,0.05,1])\n",
    "        env.render()\n",
    "\n",
    "env.close_viewer()"
   ]
  },
  {
   "cell_type": "markdown",
   "metadata": {},
   "source": [
    "### Render Objects and Point Cloud Information"
   ]
  },
  {
   "cell_type": "code",
   "execution_count": 4,
   "metadata": {},
   "outputs": [],
   "source": [
    "env.reset()\n",
    "env.init_viewer(\n",
    "    azimuth           = 163.88,\n",
    "    distance          = 4.5,\n",
    "    elevation         = -10,\n",
    "    lookat            = [0.01,0.11,0.5],\n",
    "    transparent       = False,\n",
    "    black_sky         = True,\n",
    ")\n",
    "\n",
    "for obj_idx in range(n_obj):    # Objects\n",
    "    env.set_p_base_body(body_name=obj_names[obj_idx],p=obj_xyzs[obj_idx,:])\n",
    "    env.set_R_base_body(body_name=obj_names[obj_idx],R=np.eye(3,3))\n",
    "env.forward(increase_tick=False)\n",
    "\n",
    "while env.is_viewer_alive():\n",
    "    env.step()\n",
    "\n",
    "    env.plot_T(T=T_cam_ext,axis_len=0.1,axis_width=0.005,label='External')\n",
    "    for p in pcd_array[::10]: env.plot_sphere(p=p,r=0.002,rgba=[0.05,0.95,0.05,1])  # Point Cloud\n",
    "    env.render()\n",
    "\n",
    "env.close_viewer()"
   ]
  }
 ],
 "metadata": {
  "kernelspec": {
   "display_name": "vision",
   "language": "python",
   "name": "python3"
  },
  "language_info": {
   "codemirror_mode": {
    "name": "ipython",
    "version": 3
   },
   "file_extension": ".py",
   "mimetype": "text/x-python",
   "name": "python",
   "nbconvert_exporter": "python",
   "pygments_lexer": "ipython3",
   "version": "3.9.20"
  }
 },
 "nbformat": 4,
 "nbformat_minor": 2
}
